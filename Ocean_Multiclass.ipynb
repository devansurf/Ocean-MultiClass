{
  "cells": [
    {
      "cell_type": "markdown",
      "metadata": {
        "id": "view-in-github",
        "colab_type": "text"
      },
      "source": [
        "<a href=\"https://colab.research.google.com/github/devansurf/Ocean-MultiClass/blob/main/Ocean_Multiclass.ipynb\" target=\"_parent\"><img src=\"https://colab.research.google.com/assets/colab-badge.svg\" alt=\"Open In Colab\"/></a>"
      ]
    },
    {
      "cell_type": "markdown",
      "metadata": {
        "id": "csDU0nqPJV9T"
      },
      "source": [
        "# Ocean Animals Multi-classification model!\n"
      ]
    },
    {
      "cell_type": "code",
      "execution_count": null,
      "metadata": {
        "colab": {
          "base_uri": "https://localhost:8080/"
        },
        "id": "wqzBH3KDH-rj",
        "outputId": "fe751b8f-a128-42c0-9a55-2f57db965486"
      },
      "outputs": [
        {
          "name": "stdout",
          "output_type": "stream",
          "text": [
            "Drive already mounted at /content/drive; to attempt to forcibly remount, call drive.mount(\"/content/drive\", force_remount=True).\n"
          ]
        }
      ],
      "source": [
        "#Fetch dataset from Google Drive\n",
        "from google.colab import drive\n",
        "drive.mount('/content/drive')"
      ]
    },
    {
      "cell_type": "code",
      "execution_count": null,
      "metadata": {
        "colab": {
          "base_uri": "https://localhost:8080/"
        },
        "id": "foozuxVegx3i",
        "outputId": "8bb13ee6-a8df-430a-d84e-05b13b8dee43"
      },
      "outputs": [
        {
          "name": "stdout",
          "output_type": "stream",
          "text": [
            "Requirement already satisfied: optuna in /usr/local/lib/python3.10/dist-packages (3.5.0)\n",
            "Requirement already satisfied: alembic>=1.5.0 in /usr/local/lib/python3.10/dist-packages (from optuna) (1.13.1)\n",
            "Requirement already satisfied: colorlog in /usr/local/lib/python3.10/dist-packages (from optuna) (6.8.0)\n",
            "Requirement already satisfied: numpy in /usr/local/lib/python3.10/dist-packages (from optuna) (1.23.5)\n",
            "Requirement already satisfied: packaging>=20.0 in /usr/local/lib/python3.10/dist-packages (from optuna) (23.2)\n",
            "Requirement already satisfied: sqlalchemy>=1.3.0 in /usr/local/lib/python3.10/dist-packages (from optuna) (2.0.23)\n",
            "Requirement already satisfied: tqdm in /usr/local/lib/python3.10/dist-packages (from optuna) (4.66.1)\n",
            "Requirement already satisfied: PyYAML in /usr/local/lib/python3.10/dist-packages (from optuna) (6.0.1)\n",
            "Requirement already satisfied: Mako in /usr/local/lib/python3.10/dist-packages (from alembic>=1.5.0->optuna) (1.3.0)\n",
            "Requirement already satisfied: typing-extensions>=4 in /usr/local/lib/python3.10/dist-packages (from alembic>=1.5.0->optuna) (4.5.0)\n",
            "Requirement already satisfied: greenlet!=0.4.17 in /usr/local/lib/python3.10/dist-packages (from sqlalchemy>=1.3.0->optuna) (3.0.2)\n",
            "Requirement already satisfied: MarkupSafe>=0.9.2 in /usr/local/lib/python3.10/dist-packages (from Mako->alembic>=1.5.0->optuna) (2.1.3)\n"
          ]
        }
      ],
      "source": [
        "!pip install optuna"
      ]
    },
    {
      "cell_type": "code",
      "execution_count": null,
      "metadata": {
        "id": "R5u8FpirJeQz"
      },
      "outputs": [],
      "source": [
        "#Libaries\n",
        "import cv2\n",
        "import os\n",
        "import matplotlib.pyplot as plt\n",
        "import matplotlib.patches as patches\n",
        "import numpy as np\n",
        "import pandas as pd\n",
        "import optuna #tuner\n",
        "import re\n",
        "import random\n",
        "import seaborn as sns\n",
        "from collections import Counter\n",
        "from itertools import chain\n",
        "\n",
        "import torch\n",
        "import torch.nn as nn\n",
        "import torch.optim as optim\n",
        "from torch.utils.data import DataLoader, Dataset, Subset, WeightedRandomSampler\n",
        "from torch.utils.data.sampler import SubsetRandomSampler\n",
        "import torch.nn.functional as F\n",
        "from torch.nn import Module, Conv2d, ConvTranspose2d, Dropout, BatchNorm2d\n",
        "from torchvision.datasets import ImageFolder\n",
        "from torchvision.transforms import transforms, GaussianBlur\n",
        "from torch.utils.data import random_split\n",
        "\n",
        "\n",
        "from PIL import Image\n",
        "\n",
        "from collections import Counter\n",
        "from tqdm import tqdm\n",
        "from IPython.display import display, Math, Latex\n",
        "from sklearn.utils import resample\n",
        "from sklearn.metrics import classification_report, f1_score, confusion_matrix\n",
        "from concurrent.futures import ThreadPoolExecutor\n",
        "from sklearn.model_selection import train_test_split"
      ]
    },
    {
      "cell_type": "code",
      "execution_count": null,
      "metadata": {
        "id": "-52Ews7wJiDM"
      },
      "outputs": [],
      "source": [
        "#directory\n",
        "root_dir = '/content/drive/MyDrive/MachineLearning/ocean-dataset'"
      ]
    },
    {
      "cell_type": "code",
      "execution_count": null,
      "metadata": {
        "id": "sIcFId4zJjgl"
      },
      "outputs": [],
      "source": [
        "class bcolors:\n",
        "    HEADER = '\\033[95m'\n",
        "    OKBLUE = '\\033[94m'\n",
        "    OKCYAN = '\\033[96m'\n",
        "    OKGREEN = '\\033[92m'\n",
        "    WARNING = '\\033[93m'\n",
        "    FAIL = '\\033[91m'\n",
        "    ENDC = '\\033[0m'\n",
        "    BOLD = '\\033[1m'\n",
        "    UNDERLINE = '\\033[4m'"
      ]
    },
    {
      "cell_type": "code",
      "execution_count": null,
      "metadata": {
        "id": "mgZOf1knJlV-"
      },
      "outputs": [],
      "source": [
        "#Configuration\n",
        "class Config:\n",
        "    #CNN settings\n",
        "    learning_rate = 2.715011573252679e-05\n",
        "    num_epochs = 50\n",
        "    batch_size = 32\n",
        "    dropout = 0.5\n",
        "    img_dimensions = (152, 152)\n",
        "\n",
        "    #dataset settings\n",
        "    num_classifications = 23 #max 23\n",
        "    target_count = 600\n",
        "\n",
        "    training_proportion = 0.7\n",
        "    validation_proportion = 0.2\n",
        "\n",
        "    #misc\n",
        "    display_plots = False\n",
        "    allow_tuner = False"
      ]
    },
    {
      "cell_type": "markdown",
      "metadata": {
        "id": "ivLHaidZUYWR"
      },
      "source": [
        "# Helper Functions\n"
      ]
    },
    {
      "cell_type": "code",
      "execution_count": null,
      "metadata": {
        "id": "tIST3pwnUb8b"
      },
      "outputs": [],
      "source": [
        "def to_numpy(x):\n",
        "    return x.detach().cpu().numpy()"
      ]
    },
    {
      "cell_type": "code",
      "execution_count": null,
      "metadata": {
        "id": "JtjbITWXRrKg"
      },
      "outputs": [],
      "source": [
        "#Calculate mean std helper:\n",
        "def calculate_mean_std(dataset):\n",
        "    dataset_dataloader = DataLoader(\n",
        "        dataset, batch_size=len(dataset), num_workers=2\n",
        "    ) # this will allow us to iterate through images in batches\n",
        "    data = next(iter(dataset_dataloader))\n",
        "    return data[0].mean(), data[0].std()"
      ]
    },
    {
      "cell_type": "code",
      "execution_count": null,
      "metadata": {
        "id": "lZkm1O8MUbOY"
      },
      "outputs": [],
      "source": [
        "#Function to balance a subset\n",
        "def balance(image_paths, labels, target_count=600):\n",
        "    balanced_image_paths = []\n",
        "    balanced_labels = []\n",
        "\n",
        "    label_counts = Counter(labels)\n",
        "    for label in label_counts:\n",
        "        label_indices = [i for i, lbl in enumerate(labels) if lbl == label]\n",
        "        if label_counts[label] > target_count:\n",
        "            # undersampling\n",
        "            balanced_indices = random.sample(label_indices, k=target_count)\n",
        "        else:\n",
        "            # oversampling\n",
        "            balanced_indices = random.choices(label_indices, k=target_count)\n",
        "\n",
        "        balanced_image_paths.extend([image_paths[i] for i in balanced_indices])\n",
        "        balanced_labels.extend([label] * len(balanced_indices))\n",
        "\n",
        "    return balanced_image_paths, balanced_labels"
      ]
    },
    {
      "cell_type": "code",
      "execution_count": null,
      "metadata": {
        "id": "nOJa1wI2U0B7"
      },
      "outputs": [],
      "source": [
        "def show_random_images(subset, subset_name, num_images=5):\n",
        "    plt.figure(figsize=(15, 10))\n",
        "    for i in range(num_images):\n",
        "        # Randomly select an index\n",
        "        idx = random.randint(0, len(subset) - 1)\n",
        "\n",
        "        # Get the image and label\n",
        "        image, label= subset[idx]\n",
        "        # Convert the tensor image to a NumPy array for visualization\n",
        "        image_np = image.permute(1, 2, 0).numpy()\n",
        "\n",
        "        # Subplot for each image\n",
        "        plt.subplot(1, num_images, i + 1)\n",
        "        plt.imshow(image_np)\n",
        "        plt.title(f'{subset_name} - Label: {label}')\n",
        "        plt.axis('off')\n",
        "    plt.show()"
      ]
    },
    {
      "cell_type": "code",
      "execution_count": null,
      "metadata": {
        "id": "Kq0BQwvaU7ZK"
      },
      "outputs": [],
      "source": [
        "def show_distribution(subset, subset_name):\n",
        "    counts = {}\n",
        "    for _, label in subset:\n",
        "        if label in counts:\n",
        "            counts[label] += 1\n",
        "        else:\n",
        "            counts[label] = 1\n",
        "\n",
        "    counts_series = pd.Series(counts)\n",
        "\n",
        "    # Plot the label counts\n",
        "    plt.figure(figsize=(15, 5))\n",
        "    # Plot original counts\n",
        "    counts_series.plot(kind='bar', color='blue', label='Original')\n",
        "\n",
        "    plt.xlabel('Labels')\n",
        "    plt.ylabel('Counts')\n",
        "    plt.title('Distribution of Labels in: ' + subset_name)\n",
        "    plt.legend()\n",
        "    plt.show()"
      ]
    },
    {
      "cell_type": "markdown",
      "metadata": {
        "id": "Y5ObgDB0TPHe"
      },
      "source": [
        "# Custom Dataset Class\n"
      ]
    },
    {
      "cell_type": "code",
      "execution_count": null,
      "metadata": {
        "id": "GrOs3O1DShMV"
      },
      "outputs": [],
      "source": [
        "class OceanDataset(Dataset):\n",
        "    def __init__(self, image_paths, labels, transform=None):\n",
        "\n",
        "        assert len(image_paths) == len(labels), \"Length mismatch between images and labels\"\n",
        "        self.image_paths = image_paths\n",
        "        self.labels = labels\n",
        "        self.transform = transform\n",
        "\n",
        "    def __len__(self):\n",
        "        return len(self.image_paths)\n",
        "\n",
        "    def __getitem__(self, index):\n",
        "        img_path = self.image_paths[index]\n",
        "        label = self.labels[index]\n",
        "\n",
        "        image = Image.open(img_path).convert('RGB')\n",
        "\n",
        "        if self.transform:\n",
        "            image = self.transform(image)\n",
        "\n",
        "        return image, label"
      ]
    },
    {
      "cell_type": "markdown",
      "metadata": {
        "id": "1neBqA43TRO9"
      },
      "source": [
        "# CNN"
      ]
    },
    {
      "cell_type": "code",
      "execution_count": null,
      "metadata": {
        "id": "CTui-3qqS3Hs"
      },
      "outputs": [],
      "source": [
        "class OceanCNN(nn.Module):\n",
        "    def __init__(self, dropout=0.5, img_dimensions=(128,128)):\n",
        "        super(OceanCNN, self).__init__()\n",
        "        self.conv1 = nn.Conv2d(3, 32, kernel_size=3, stride=1, padding=1)\n",
        "        self.bn1 = nn.BatchNorm2d(32)\n",
        "        self.conv2 = nn.Conv2d(32, 64, kernel_size=3, stride=1, padding=1)\n",
        "        self.bn2 = nn.BatchNorm2d(64)\n",
        "        self.conv3 = nn.Conv2d(64, 128, kernel_size=3, stride=1, padding=1)\n",
        "        self.bn3 = nn.BatchNorm2d(128)\n",
        "\n",
        "        def conv_output_size(size, kernel_size=3, stride=1, padding=1):\n",
        "            return (size - kernel_size + 2 * padding) // stride + 1\n",
        "\n",
        "        size = conv_output_size(img_dimensions[0]) # After first conv layer\n",
        "        size = size // 2 # After first pooling\n",
        "        size = conv_output_size(size) # After second conv\n",
        "        size = size // 2 # After second pooling\n",
        "        size = conv_output_size(size) # After third conv\n",
        "        size = size // 2 # After third pooling\n",
        "        self.final_size = size * size * 128 # Adjusted for 128 filters in the last conv layer\n",
        "\n",
        "\n",
        "        self.pool = nn.MaxPool2d(kernel_size=2, stride=2, padding=0)\n",
        "        self.fc1 = nn.Linear(self.final_size, 512)\n",
        "        self.fc2 = nn.Linear(512, Config.num_classifications)\n",
        "        self.dropout = nn.Dropout(dropout)\n",
        "\n",
        "\n",
        "\n",
        "    def forward(self, x):\n",
        "        x = self.pool(F.relu(self.bn1(self.conv1(x))))\n",
        "        x = self.pool(F.relu(self.bn2(self.conv2(x))))\n",
        "        x = self.pool(F.relu(self.bn3(self.conv3(x))))\n",
        "\n",
        "        x = x.view(-1, self.final_size)\n",
        "        x = F.relu(self.fc1(x))\n",
        "        x = self.dropout(x)\n",
        "        x = self.fc2(x)\n",
        "        return x"
      ]
    },
    {
      "cell_type": "markdown",
      "metadata": {
        "id": "OVm692x9TYWo"
      },
      "source": [
        "# Training Function\n"
      ]
    },
    {
      "cell_type": "code",
      "execution_count": null,
      "metadata": {
        "id": "teXPTmeHTbPz"
      },
      "outputs": [],
      "source": [
        "class EarlyStopper:\n",
        "    def __init__(self, patience=5, min_delta=0):\n",
        "        self.patience = patience\n",
        "        self.min_delta = min_delta\n",
        "        self.counter = 0\n",
        "        self.min_validation_loss = np.inf\n",
        "\n",
        "    def early_stop(self, validation_loss):\n",
        "        if validation_loss < self.min_validation_loss:\n",
        "            self.min_validation_loss = validation_loss\n",
        "            self.counter = 0\n",
        "        elif validation_loss > (self.min_validation_loss + self.min_delta):\n",
        "            self.counter += 1\n",
        "            if self.counter >= self.patience:\n",
        "                return True\n",
        "        return False"
      ]
    },
    {
      "cell_type": "code",
      "execution_count": null,
      "metadata": {
        "id": "h1oFi_FoTcFX"
      },
      "outputs": [],
      "source": [
        "def train_model(learning_rate, epochs, dropout, img_dimensions, train_loader, valid_loader):\n",
        "    torch.manual_seed(69)  # Set seed\n",
        "\n",
        "    model = OceanCNN(dropout=dropout, img_dimensions=img_dimensions)\n",
        "    print(model)  # Print model architecture\n",
        "\n",
        "    if torch.cuda.is_available():\n",
        "        model = model.to('cuda')  # Move your model to GPU\n",
        "\n",
        "    criterion = nn.CrossEntropyLoss()\n",
        "    optimizer = optim.Adam(model.parameters(), lr=learning_rate, weight_decay=0.0001)\n",
        "\n",
        "    acc_hist_train = []\n",
        "    acc_hist_val = []\n",
        "    train_losses = []\n",
        "    val_losses = []\n",
        "\n",
        "    # Early stopping logic here\n",
        "    early_stopper = EarlyStopper(patience=10, min_delta=0.1)\n",
        "\n",
        "    for epoch in range(1, epochs + 1):\n",
        "        model.train()\n",
        "        train_loss = 0.0\n",
        "        correct_train = 0\n",
        "        total_train = 0\n",
        "\n",
        "        for images, labels in tqdm(train_loader):\n",
        "            if torch.cuda.is_available():\n",
        "                images, labels = images.cuda(), labels.cuda()\n",
        "\n",
        "            optimizer.zero_grad()\n",
        "            outputs = model(images)\n",
        "            loss = criterion(outputs, labels)\n",
        "\n",
        "            loss.backward()\n",
        "            optimizer.step()\n",
        "\n",
        "            train_loss += loss.item() * images.size(0)\n",
        "            _, predicted = torch.max(outputs.data, 1)\n",
        "            total_train += labels.size(0)\n",
        "            correct_train += (predicted == labels).sum().item()\n",
        "\n",
        "        train_loss = train_loss / len(train_loader.dataset)\n",
        "        train_accuracy = correct_train / total_train\n",
        "        acc_hist_train.append(train_accuracy)\n",
        "        train_losses.append(train_loss)\n",
        "\n",
        "        # Validation loop\n",
        "        model.eval()\n",
        "        valid_loss = 0.0\n",
        "        correct_val = 0\n",
        "        total_val = 0\n",
        "\n",
        "        with torch.no_grad():\n",
        "            for images, labels in valid_loader:\n",
        "                if torch.cuda.is_available():\n",
        "                    images, labels = images.cuda(), labels.cuda()\n",
        "\n",
        "                outputs = model(images)\n",
        "                loss = criterion(outputs, labels)\n",
        "\n",
        "                valid_loss += loss.item() * images.size(0)\n",
        "                _, predicted = torch.max(outputs.data, 1)\n",
        "                total_val += labels.size(0)\n",
        "                correct_val += (predicted == labels).sum().item()\n",
        "\n",
        "\n",
        "        valid_loss = valid_loss / len(valid_loader.dataset)\n",
        "        valid_accuracy = correct_val / total_val\n",
        "\n",
        "        if early_stopper.early_stop(valid_loss):\n",
        "            print(f'Early Stop -> Epoch = {epoch}')\n",
        "            break\n",
        "\n",
        "        if (epoch > 1 and valid_loss < np.min(val_losses)) or epoch == 1:\n",
        "            torch.save(model.state_dict(), 'checkpoint_loss.pt')\n",
        "            print(\"Validation loss checkpoint saved!\")\n",
        "\n",
        "        if (epoch > 1 and valid_accuracy > np.max(acc_hist_val)) or epoch == 1:\n",
        "            torch.save(model.state_dict(), 'checkpoint_acc.pt')\n",
        "            print(\"Validation acc checkpoint saved!\")\n",
        "\n",
        "\n",
        "        acc_hist_val.append(valid_accuracy)\n",
        "        val_losses.append(valid_loss)\n",
        "\n",
        "        print(\"valid loss is: \", valid_loss)\n",
        "        print(\"minimum of the losses is: \", np.min(val_losses))\n",
        "\n",
        "        print(f\"Epoch: {epoch}\")\n",
        "        print(f\"Train Acc: {train_accuracy:.3f}\")\n",
        "        print(f\"Val Acc: {valid_accuracy:.3f}\")\n",
        "        print(f\"Train Loss: {train_loss:.3f}\")\n",
        "        print(f\"Val Loss: {valid_loss:.3f}\")\n",
        "        print(\"---------------------------------------------\")\n",
        "\n",
        "    model.eval()\n",
        "    return model, acc_hist_train, acc_hist_val, train_losses, val_losses"
      ]
    },
    {
      "cell_type": "markdown",
      "metadata": {
        "id": "QVri-j8mUjqn"
      },
      "source": [
        "# Format Dataset\n"
      ]
    },
    {
      "cell_type": "code",
      "execution_count": null,
      "metadata": {
        "colab": {
          "base_uri": "https://localhost:8080/"
        },
        "id": "poxrxjP0Utzu",
        "outputId": "c9a8f944-b7db-453a-cf1d-d577244e05dd"
      },
      "outputs": [
        {
          "name": "stdout",
          "output_type": "stream",
          "text": [
            "mean:  0.3758\n",
            "std:  0.2585\n"
          ]
        }
      ],
      "source": [
        "#Loop through species folders, up to num_classifications\n",
        "def getData(num_classifications):\n",
        "    all_image_paths = []\n",
        "    all_labels = []\n",
        "    species_folders = sorted(os.listdir(root_dir))[:num_classifications]\n",
        "\n",
        "    for label, species in enumerate(species_folders):\n",
        "        species_dir = os.path.join(root_dir, species)\n",
        "        if os.path.isdir(species_dir):\n",
        "            for image_name in os.listdir(species_dir):\n",
        "                image_path = os.path.join(species_dir, image_name)\n",
        "                if os.path.isfile(image_path):\n",
        "                    all_image_paths.append(image_path)\n",
        "                    all_labels.append(label)  # Using index as label\n",
        "\n",
        "    return all_image_paths, all_labels\n",
        "\n",
        "#TODO, make sure to split subsets by each classification category, so that training is non-biased (for every species split evenly)\n",
        "all_image_paths, all_labels = getData(Config.num_classifications)\n",
        "\n",
        "dataset = OceanDataset(all_image_paths, all_labels, transforms.Compose([ transforms.Resize(Config.img_dimensions), transforms.ToTensor(),]))\n",
        "mean, std = 0.3758, 0.2585\n",
        "print('mean: ', mean)\n",
        "print('std: ', std)\n",
        "# mean:  tensor(0.3758)\n",
        "# std:  tensor(0.2585)\n",
        "#Define transforms (augmentations)\n",
        "train_transform = transforms.Compose([\n",
        "    transforms.RandomHorizontalFlip(),\n",
        "    transforms.RandomResizedCrop(Config.img_dimensions[0], scale=(0.9, 1.0)),  # Random zoom,\n",
        "    transforms.ToTensor(),\n",
        "    transforms.Normalize(mean,std),\n",
        "])\n",
        "\n",
        "validation_transform = transforms.Compose([\n",
        "    transforms.Resize(Config.img_dimensions),\n",
        "    transforms.ToTensor(),\n",
        "    transforms.Normalize(mean,std),\n",
        "])\n",
        "\n",
        "\n",
        "def split_dataset(num_classifications, all_image_paths, all_labels):\n",
        "\n",
        "    # Create empty lists to store split data\n",
        "    train_paths, validation_paths, test_paths = [], [], []\n",
        "    train_labels, validation_labels, test_labels = [], [], []\n",
        "\n",
        "    #This ensures equal representation for each class\n",
        "\n",
        "    for label in range(num_classifications):\n",
        "\n",
        "        # Filter paths and labels for the current label\n",
        "        label_paths = [path for path, l in zip(all_image_paths, all_labels) if l == label]\n",
        "        label_labels = [l for l in all_labels if l == label]\n",
        "\n",
        "\n",
        "        #calculate lengths\n",
        "        total_size = len(label_labels)\n",
        "        train_size = int(total_size * Config.training_proportion)\n",
        "        valid_size = int(total_size * Config.validation_proportion)\n",
        "        test_size = total_size - train_size - valid_size\n",
        "\n",
        "        # Split into training and temporary set (validation + test)\n",
        "        paths_train, paths_temp, labels_train, labels_temp = train_test_split(\n",
        "            label_paths, label_labels, train_size=train_size, random_state=42)\n",
        "\n",
        "        # Split the temporary set into validation and test sets\n",
        "        validation_size_adjusted = valid_size / (valid_size + test_size)\n",
        "        paths_valid, paths_test, labels_valid, labels_test = train_test_split(\n",
        "            paths_temp, labels_temp, train_size=validation_size_adjusted, random_state=42)\n",
        "\n",
        "        # Append to main lists\n",
        "        train_paths.extend(paths_train)\n",
        "        validation_paths.extend(paths_valid)\n",
        "        test_paths.extend(paths_test)\n",
        "        train_labels.extend(labels_train)\n",
        "        validation_labels.extend(labels_valid)\n",
        "        test_labels.extend(labels_test)\n",
        "\n",
        "    return train_paths, train_labels, validation_paths, validation_labels, test_paths, test_labels\n",
        "\n",
        "#balance dataset first\n",
        "all_image_paths, all_labels = balance(all_image_paths, all_labels, Config.target_count)\n",
        "#call the split dataset function\n",
        "train_image_paths, train_labels, valid_image_paths, valid_labels, test_image_paths, test_labels = split_dataset(Config.num_classifications, all_image_paths, all_labels)\n",
        "\n",
        "#Oversample the training subset\n",
        "#balanced_train_image_paths, balanced_train_labels = balance(train_image_paths, train_labels, Config.target_count)\n",
        "\n",
        "#data was split this way in order to apply different transforms across subsets\n",
        "train_dataset = OceanDataset(train_image_paths, train_labels, transform=train_transform)\n",
        "valid_dataset = OceanDataset(valid_image_paths, valid_labels, transform=validation_transform)\n",
        "test_dataset =  OceanDataset(test_image_paths, test_labels, transform=validation_transform)\n",
        "\n",
        "#creating data loaders for each set\n",
        "train_loader = DataLoader(train_dataset, batch_size=Config.batch_size, shuffle=True)\n",
        "valid_loader = DataLoader(valid_dataset, batch_size=Config.batch_size, shuffle=False)\n",
        "test_loader = DataLoader(test_dataset, batch_size=Config.batch_size, shuffle=False)\n"
      ]
    },
    {
      "cell_type": "markdown",
      "metadata": {
        "id": "QaK7xDkGbn7N"
      },
      "source": [
        "# Visualize formatted dataset"
      ]
    },
    {
      "cell_type": "code",
      "execution_count": null,
      "metadata": {
        "id": "WGpj0v4YbqkK"
      },
      "outputs": [],
      "source": [
        "if Config.display_plots:\n",
        "    show_random_images(train_dataset, \"Train Dataset\")\n",
        "    show_random_images(valid_dataset, \"Valid Dataset\")\n",
        "    show_random_images(test_dataset, \"Test Dataset\")\n",
        "\n",
        "    #show_distribution(dataset, \"Raw_Dataset\")\n",
        "    show_distribution(train_dataset, \"Train_Dataset\")\n",
        "    show_distribution(valid_dataset, \"Valid_Dataset\")\n",
        "    show_distribution(test_dataset, \"Test_Dataset\")"
      ]
    },
    {
      "cell_type": "markdown",
      "metadata": {
        "id": "YYFFPrWIf9UD"
      },
      "source": [
        "# Training Tuner"
      ]
    },
    {
      "cell_type": "code",
      "execution_count": null,
      "metadata": {
        "id": "QN-gaJEof88n"
      },
      "outputs": [],
      "source": [
        "#tuner function\n",
        "def tuner(trial):\n",
        "    # Define the hyperparameters to be tuned\n",
        "    learning_rate = trial.suggest_float('learning_rate', 0.00001, 0.0001)\n",
        "    dropout = Config.dropout#trial.suggest_float('dropout', 0, 0.6)\n",
        "    img_dimension = Config.img_dimensions[0] #trial.suggest_int('img_dimension', 128, 256, step= 8) #128 to 256 with steps of 8\n",
        "    batch_size = Config.batch_size#trial.suggest_int('batch_size', 8, 64, step = 8)\n",
        "    epochs = 5\n",
        "    train_transform = transforms.Compose([\n",
        "        transforms.RandomHorizontalFlip(),\n",
        "        transforms.RandomResizedCrop(img_dimension, scale=(0.9, 1.0)),  # Random zoom,\n",
        "        transforms.ToTensor(),\n",
        "\n",
        "    ])\n",
        "\n",
        "    validation_transform = transforms.Compose([\n",
        "        transforms.Resize((img_dimension, img_dimension)),\n",
        "        transforms.ToTensor(),\n",
        "    ])\n",
        "\n",
        "    #Custom dataset for tuner\n",
        "    train_dataset = OceanDataset(train_image_paths, train_labels, transform=train_transform)\n",
        "    valid_dataset = OceanDataset(valid_image_paths, valid_labels, transform=validation_transform)\n",
        "    test_dataset =  OceanDataset(test_image_paths, test_labels, transform=validation_transform)\n",
        "\n",
        "    #creating data loaders for each set\n",
        "    train_loader = DataLoader(train_dataset, batch_size=batch_size, shuffle=True)\n",
        "    valid_loader = DataLoader(valid_dataset, batch_size=batch_size, shuffle=False)\n",
        "    test_loader = DataLoader(test_dataset, batch_size=batch_size, shuffle=False)\n",
        "\n",
        "    model, acc_hist_train, acc_hist_val, train_losses, val_losses = train_model(learning_rate, epochs, dropout, (img_dimension,img_dimension), train_loader, valid_loader)\n",
        "    return max(acc_hist_val)\n",
        "\n",
        "if Config.allow_tuner:\n",
        "    study = optuna.create_study(direction='maximize')\n",
        "    study.optimize(tuner, n_trials=30)\n",
        "\n",
        "    best_params = study.best_params\n",
        "    print(\"Best hyperparameters: \", best_params)"
      ]
    },
    {
      "cell_type": "markdown",
      "metadata": {
        "id": "f9mfU0NfWgGU"
      },
      "source": [
        "# Train the Model\n"
      ]
    },
    {
      "cell_type": "code",
      "execution_count": null,
      "metadata": {
        "colab": {
          "background_save": true,
          "base_uri": "https://localhost:8080/"
        },
        "id": "l677AGKuWjqB",
        "outputId": "4cbadc82-c83a-47fc-96f9-bc8629fc3aa7"
      },
      "outputs": [
        {
          "name": "stdout",
          "output_type": "stream",
          "text": [
            "OceanCNN(\n",
            "  (conv1): Conv2d(3, 32, kernel_size=(3, 3), stride=(1, 1), padding=(1, 1))\n",
            "  (bn1): BatchNorm2d(32, eps=1e-05, momentum=0.1, affine=True, track_running_stats=True)\n",
            "  (conv2): Conv2d(32, 64, kernel_size=(3, 3), stride=(1, 1), padding=(1, 1))\n",
            "  (bn2): BatchNorm2d(64, eps=1e-05, momentum=0.1, affine=True, track_running_stats=True)\n",
            "  (conv3): Conv2d(64, 128, kernel_size=(3, 3), stride=(1, 1), padding=(1, 1))\n",
            "  (bn3): BatchNorm2d(128, eps=1e-05, momentum=0.1, affine=True, track_running_stats=True)\n",
            "  (pool): MaxPool2d(kernel_size=2, stride=2, padding=0, dilation=1, ceil_mode=False)\n",
            "  (fc1): Linear(in_features=46208, out_features=512, bias=True)\n",
            "  (fc2): Linear(in_features=512, out_features=23, bias=True)\n",
            "  (dropout): Dropout(p=0.5, inplace=False)\n",
            ")\n"
          ]
        },
        {
          "name": "stderr",
          "output_type": "stream",
          "text": [
            "100%|██████████| 302/302 [01:01<00:00,  4.93it/s]\n"
          ]
        },
        {
          "name": "stdout",
          "output_type": "stream",
          "text": [
            "Validation loss checkpoint saved!\n",
            "Validation acc checkpoint saved!\n",
            "valid loss is:  2.3760413283887116\n",
            "minimum of the losses is:  2.3760413283887116\n",
            "Epoch: 1\n",
            "Train Acc: 0.191\n",
            "Val Acc: 0.303\n",
            "Train Loss: 2.696\n",
            "Val Loss: 2.376\n",
            "---------------------------------------------\n"
          ]
        },
        {
          "name": "stderr",
          "output_type": "stream",
          "text": [
            "100%|██████████| 302/302 [00:48<00:00,  6.25it/s]\n"
          ]
        },
        {
          "name": "stdout",
          "output_type": "stream",
          "text": [
            "Validation loss checkpoint saved!\n",
            "Validation acc checkpoint saved!\n",
            "valid loss is:  2.1982410766076352\n",
            "minimum of the losses is:  2.1982410766076352\n",
            "Epoch: 2\n",
            "Train Acc: 0.267\n",
            "Val Acc: 0.344\n",
            "Train Loss: 2.421\n",
            "Val Loss: 2.198\n",
            "---------------------------------------------\n"
          ]
        },
        {
          "name": "stderr",
          "output_type": "stream",
          "text": [
            "100%|██████████| 302/302 [00:48<00:00,  6.24it/s]\n"
          ]
        },
        {
          "name": "stdout",
          "output_type": "stream",
          "text": [
            "Validation loss checkpoint saved!\n",
            "Validation acc checkpoint saved!\n",
            "valid loss is:  2.093892694901729\n",
            "minimum of the losses is:  2.093892694901729\n",
            "Epoch: 3\n",
            "Train Acc: 0.312\n",
            "Val Acc: 0.371\n",
            "Train Loss: 2.271\n",
            "Val Loss: 2.094\n",
            "---------------------------------------------\n"
          ]
        },
        {
          "name": "stderr",
          "output_type": "stream",
          "text": [
            "100%|██████████| 302/302 [00:48<00:00,  6.24it/s]\n"
          ]
        },
        {
          "name": "stdout",
          "output_type": "stream",
          "text": [
            "Validation loss checkpoint saved!\n",
            "Validation acc checkpoint saved!\n",
            "valid loss is:  1.9866213663764622\n",
            "minimum of the losses is:  1.9866213663764622\n",
            "Epoch: 4\n",
            "Train Acc: 0.345\n",
            "Val Acc: 0.408\n",
            "Train Loss: 2.158\n",
            "Val Loss: 1.987\n",
            "---------------------------------------------\n"
          ]
        },
        {
          "name": "stderr",
          "output_type": "stream",
          "text": [
            "100%|██████████| 302/302 [00:48<00:00,  6.19it/s]\n"
          ]
        },
        {
          "name": "stdout",
          "output_type": "stream",
          "text": [
            "Validation loss checkpoint saved!\n",
            "Validation acc checkpoint saved!\n",
            "valid loss is:  1.9372413047845813\n",
            "minimum of the losses is:  1.9372413047845813\n",
            "Epoch: 5\n",
            "Train Acc: 0.379\n",
            "Val Acc: 0.421\n",
            "Train Loss: 2.045\n",
            "Val Loss: 1.937\n",
            "---------------------------------------------\n"
          ]
        },
        {
          "name": "stderr",
          "output_type": "stream",
          "text": [
            "100%|██████████| 302/302 [00:49<00:00,  6.14it/s]\n"
          ]
        },
        {
          "name": "stdout",
          "output_type": "stream",
          "text": [
            "Validation loss checkpoint saved!\n",
            "Validation acc checkpoint saved!\n",
            "valid loss is:  1.8710275767506033\n",
            "minimum of the losses is:  1.8710275767506033\n",
            "Epoch: 6\n",
            "Train Acc: 0.396\n",
            "Val Acc: 0.447\n",
            "Train Loss: 1.977\n",
            "Val Loss: 1.871\n",
            "---------------------------------------------\n"
          ]
        },
        {
          "name": "stderr",
          "output_type": "stream",
          "text": [
            "100%|██████████| 302/302 [00:48<00:00,  6.23it/s]\n"
          ]
        },
        {
          "name": "stdout",
          "output_type": "stream",
          "text": [
            "Validation loss checkpoint saved!\n",
            "Validation acc checkpoint saved!\n",
            "valid loss is:  1.8407988565555518\n",
            "minimum of the losses is:  1.8407988565555518\n",
            "Epoch: 7\n",
            "Train Acc: 0.414\n",
            "Val Acc: 0.449\n",
            "Train Loss: 1.904\n",
            "Val Loss: 1.841\n",
            "---------------------------------------------\n"
          ]
        },
        {
          "name": "stderr",
          "output_type": "stream",
          "text": [
            "100%|██████████| 302/302 [00:48<00:00,  6.20it/s]\n"
          ]
        },
        {
          "name": "stdout",
          "output_type": "stream",
          "text": [
            "Validation loss checkpoint saved!\n",
            "Validation acc checkpoint saved!\n",
            "valid loss is:  1.7734684895778048\n",
            "minimum of the losses is:  1.7734684895778048\n",
            "Epoch: 8\n",
            "Train Acc: 0.445\n",
            "Val Acc: 0.476\n",
            "Train Loss: 1.811\n",
            "Val Loss: 1.773\n",
            "---------------------------------------------\n"
          ]
        },
        {
          "name": "stderr",
          "output_type": "stream",
          "text": [
            "100%|██████████| 302/302 [00:48<00:00,  6.19it/s]\n"
          ]
        },
        {
          "name": "stdout",
          "output_type": "stream",
          "text": [
            "Validation loss checkpoint saved!\n",
            "Validation acc checkpoint saved!\n",
            "valid loss is:  1.724249816286391\n",
            "minimum of the losses is:  1.724249816286391\n",
            "Epoch: 9\n",
            "Train Acc: 0.466\n",
            "Val Acc: 0.494\n",
            "Train Loss: 1.747\n",
            "Val Loss: 1.724\n",
            "---------------------------------------------\n"
          ]
        },
        {
          "name": "stderr",
          "output_type": "stream",
          "text": [
            "100%|██████████| 302/302 [00:49<00:00,  6.16it/s]\n"
          ]
        },
        {
          "name": "stdout",
          "output_type": "stream",
          "text": [
            "Validation loss checkpoint saved!\n",
            "Validation acc checkpoint saved!\n",
            "valid loss is:  1.685602843243143\n",
            "minimum of the losses is:  1.685602843243143\n",
            "Epoch: 10\n",
            "Train Acc: 0.485\n",
            "Val Acc: 0.508\n",
            "Train Loss: 1.677\n",
            "Val Loss: 1.686\n",
            "---------------------------------------------\n"
          ]
        },
        {
          "name": "stderr",
          "output_type": "stream",
          "text": [
            "100%|██████████| 302/302 [00:48<00:00,  6.20it/s]\n"
          ]
        },
        {
          "name": "stdout",
          "output_type": "stream",
          "text": [
            "Validation loss checkpoint saved!\n",
            "valid loss is:  1.6701599349146303\n",
            "minimum of the losses is:  1.6701599349146303\n",
            "Epoch: 11\n",
            "Train Acc: 0.511\n",
            "Val Acc: 0.506\n",
            "Train Loss: 1.604\n",
            "Val Loss: 1.670\n",
            "---------------------------------------------\n"
          ]
        },
        {
          "name": "stderr",
          "output_type": "stream",
          "text": [
            "100%|██████████| 302/302 [00:48<00:00,  6.20it/s]\n"
          ]
        },
        {
          "name": "stdout",
          "output_type": "stream",
          "text": [
            "Validation loss checkpoint saved!\n",
            "Validation acc checkpoint saved!\n",
            "valid loss is:  1.6357109676236692\n",
            "minimum of the losses is:  1.6357109676236692\n",
            "Epoch: 12\n",
            "Train Acc: 0.529\n",
            "Val Acc: 0.513\n",
            "Train Loss: 1.549\n",
            "Val Loss: 1.636\n",
            "---------------------------------------------\n"
          ]
        },
        {
          "name": "stderr",
          "output_type": "stream",
          "text": [
            "100%|██████████| 302/302 [00:48<00:00,  6.26it/s]\n"
          ]
        },
        {
          "name": "stdout",
          "output_type": "stream",
          "text": [
            "Validation acc checkpoint saved!\n",
            "valid loss is:  1.6415094949197078\n",
            "minimum of the losses is:  1.6357109676236692\n",
            "Epoch: 13\n",
            "Train Acc: 0.556\n",
            "Val Acc: 0.516\n",
            "Train Loss: 1.475\n",
            "Val Loss: 1.642\n",
            "---------------------------------------------\n"
          ]
        },
        {
          "name": "stderr",
          "output_type": "stream",
          "text": [
            "100%|██████████| 302/302 [00:49<00:00,  6.16it/s]\n"
          ]
        },
        {
          "name": "stdout",
          "output_type": "stream",
          "text": [
            "Validation loss checkpoint saved!\n",
            "Validation acc checkpoint saved!\n",
            "valid loss is:  1.5881195597026658\n",
            "minimum of the losses is:  1.5881195597026658\n",
            "Epoch: 14\n",
            "Train Acc: 0.573\n",
            "Val Acc: 0.536\n",
            "Train Loss: 1.420\n",
            "Val Loss: 1.588\n",
            "---------------------------------------------\n"
          ]
        },
        {
          "name": "stderr",
          "output_type": "stream",
          "text": [
            "100%|██████████| 302/302 [00:47<00:00,  6.39it/s]\n"
          ]
        },
        {
          "name": "stdout",
          "output_type": "stream",
          "text": [
            "Validation loss checkpoint saved!\n",
            "Validation acc checkpoint saved!\n",
            "valid loss is:  1.5537827474483545\n",
            "minimum of the losses is:  1.5537827474483545\n",
            "Epoch: 15\n",
            "Train Acc: 0.585\n",
            "Val Acc: 0.536\n",
            "Train Loss: 1.368\n",
            "Val Loss: 1.554\n",
            "---------------------------------------------\n"
          ]
        },
        {
          "name": "stderr",
          "output_type": "stream",
          "text": [
            "100%|██████████| 302/302 [00:47<00:00,  6.33it/s]\n"
          ]
        },
        {
          "name": "stdout",
          "output_type": "stream",
          "text": [
            "Validation loss checkpoint saved!\n",
            "Validation acc checkpoint saved!\n",
            "valid loss is:  1.5071710959724758\n",
            "minimum of the losses is:  1.5071710959724758\n",
            "Epoch: 16\n",
            "Train Acc: 0.605\n",
            "Val Acc: 0.555\n",
            "Train Loss: 1.311\n",
            "Val Loss: 1.507\n",
            "---------------------------------------------\n"
          ]
        },
        {
          "name": "stderr",
          "output_type": "stream",
          "text": [
            "100%|██████████| 302/302 [00:47<00:00,  6.42it/s]\n"
          ]
        },
        {
          "name": "stdout",
          "output_type": "stream",
          "text": [
            "Validation loss checkpoint saved!\n",
            "Validation acc checkpoint saved!\n",
            "valid loss is:  1.4966971000035605\n",
            "minimum of the losses is:  1.4966971000035605\n",
            "Epoch: 17\n",
            "Train Acc: 0.616\n",
            "Val Acc: 0.561\n",
            "Train Loss: 1.283\n",
            "Val Loss: 1.497\n",
            "---------------------------------------------\n"
          ]
        },
        {
          "name": "stderr",
          "output_type": "stream",
          "text": [
            "100%|██████████| 302/302 [00:46<00:00,  6.46it/s]\n"
          ]
        },
        {
          "name": "stdout",
          "output_type": "stream",
          "text": [
            "Validation loss checkpoint saved!\n",
            "Validation acc checkpoint saved!\n",
            "valid loss is:  1.4687555919522826\n",
            "minimum of the losses is:  1.4687555919522826\n",
            "Epoch: 18\n",
            "Train Acc: 0.639\n",
            "Val Acc: 0.568\n",
            "Train Loss: 1.217\n",
            "Val Loss: 1.469\n",
            "---------------------------------------------\n"
          ]
        },
        {
          "name": "stderr",
          "output_type": "stream",
          "text": [
            "100%|██████████| 302/302 [00:47<00:00,  6.34it/s]\n"
          ]
        },
        {
          "name": "stdout",
          "output_type": "stream",
          "text": [
            "Validation loss checkpoint saved!\n",
            "Validation acc checkpoint saved!\n",
            "valid loss is:  1.437957963908928\n",
            "minimum of the losses is:  1.437957963908928\n",
            "Epoch: 19\n",
            "Train Acc: 0.647\n",
            "Val Acc: 0.578\n",
            "Train Loss: 1.172\n",
            "Val Loss: 1.438\n",
            "---------------------------------------------\n"
          ]
        },
        {
          "name": "stderr",
          "output_type": "stream",
          "text": [
            "100%|██████████| 302/302 [00:47<00:00,  6.33it/s]\n"
          ]
        },
        {
          "name": "stdout",
          "output_type": "stream",
          "text": [
            "Validation loss checkpoint saved!\n",
            "valid loss is:  1.4241550236508467\n",
            "minimum of the losses is:  1.4241550236508467\n",
            "Epoch: 20\n",
            "Train Acc: 0.666\n",
            "Val Acc: 0.576\n",
            "Train Loss: 1.124\n",
            "Val Loss: 1.424\n",
            "---------------------------------------------\n"
          ]
        },
        {
          "name": "stderr",
          "output_type": "stream",
          "text": [
            "100%|██████████| 302/302 [00:47<00:00,  6.30it/s]\n"
          ]
        },
        {
          "name": "stdout",
          "output_type": "stream",
          "text": [
            "valid loss is:  1.4467812802480615\n",
            "minimum of the losses is:  1.4241550236508467\n",
            "Epoch: 21\n",
            "Train Acc: 0.686\n",
            "Val Acc: 0.574\n",
            "Train Loss: 1.074\n",
            "Val Loss: 1.447\n",
            "---------------------------------------------\n"
          ]
        },
        {
          "name": "stderr",
          "output_type": "stream",
          "text": [
            "100%|██████████| 302/302 [00:47<00:00,  6.42it/s]\n"
          ]
        },
        {
          "name": "stdout",
          "output_type": "stream",
          "text": [
            "Validation loss checkpoint saved!\n",
            "Validation acc checkpoint saved!\n",
            "valid loss is:  1.4094644591428231\n",
            "minimum of the losses is:  1.4094644591428231\n",
            "Epoch: 22\n",
            "Train Acc: 0.686\n",
            "Val Acc: 0.589\n",
            "Train Loss: 1.052\n",
            "Val Loss: 1.409\n",
            "---------------------------------------------\n"
          ]
        },
        {
          "name": "stderr",
          "output_type": "stream",
          "text": [
            "100%|██████████| 302/302 [00:48<00:00,  6.25it/s]\n"
          ]
        },
        {
          "name": "stdout",
          "output_type": "stream",
          "text": [
            "Validation loss checkpoint saved!\n",
            "Validation acc checkpoint saved!\n",
            "valid loss is:  1.3558157691057178\n",
            "minimum of the losses is:  1.3558157691057178\n",
            "Epoch: 23\n",
            "Train Acc: 0.704\n",
            "Val Acc: 0.603\n",
            "Train Loss: 1.009\n",
            "Val Loss: 1.356\n",
            "---------------------------------------------\n"
          ]
        },
        {
          "name": "stderr",
          "output_type": "stream",
          "text": [
            "100%|██████████| 302/302 [00:47<00:00,  6.32it/s]\n"
          ]
        },
        {
          "name": "stdout",
          "output_type": "stream",
          "text": [
            "Validation loss checkpoint saved!\n",
            "Validation acc checkpoint saved!\n",
            "valid loss is:  1.3426183548526487\n",
            "minimum of the losses is:  1.3426183548526487\n",
            "Epoch: 24\n",
            "Train Acc: 0.721\n",
            "Val Acc: 0.614\n",
            "Train Loss: 0.964\n",
            "Val Loss: 1.343\n",
            "---------------------------------------------\n"
          ]
        },
        {
          "name": "stderr",
          "output_type": "stream",
          "text": [
            "100%|██████████| 302/302 [00:47<00:00,  6.34it/s]\n"
          ]
        },
        {
          "name": "stdout",
          "output_type": "stream",
          "text": [
            "Validation loss checkpoint saved!\n",
            "valid loss is:  1.3392508615618166\n",
            "minimum of the losses is:  1.3392508615618166\n",
            "Epoch: 25\n",
            "Train Acc: 0.728\n",
            "Val Acc: 0.610\n",
            "Train Loss: 0.932\n",
            "Val Loss: 1.339\n",
            "---------------------------------------------\n"
          ]
        },
        {
          "name": "stderr",
          "output_type": "stream",
          "text": [
            "100%|██████████| 302/302 [00:48<00:00,  6.27it/s]\n"
          ]
        },
        {
          "name": "stdout",
          "output_type": "stream",
          "text": [
            "Validation loss checkpoint saved!\n",
            "Validation acc checkpoint saved!\n",
            "valid loss is:  1.3164976859438247\n",
            "minimum of the losses is:  1.3164976859438247\n",
            "Epoch: 26\n",
            "Train Acc: 0.735\n",
            "Val Acc: 0.617\n",
            "Train Loss: 0.914\n",
            "Val Loss: 1.316\n",
            "---------------------------------------------\n"
          ]
        },
        {
          "name": "stderr",
          "output_type": "stream",
          "text": [
            "100%|██████████| 302/302 [00:46<00:00,  6.44it/s]\n"
          ]
        },
        {
          "name": "stdout",
          "output_type": "stream",
          "text": [
            "Validation loss checkpoint saved!\n",
            "valid loss is:  1.3126405627831168\n",
            "minimum of the losses is:  1.3126405627831168\n",
            "Epoch: 27\n",
            "Train Acc: 0.742\n",
            "Val Acc: 0.613\n",
            "Train Loss: 0.878\n",
            "Val Loss: 1.313\n",
            "---------------------------------------------\n"
          ]
        },
        {
          "name": "stderr",
          "output_type": "stream",
          "text": [
            "100%|██████████| 302/302 [00:46<00:00,  6.45it/s]\n"
          ]
        },
        {
          "name": "stdout",
          "output_type": "stream",
          "text": [
            "Validation loss checkpoint saved!\n",
            "Validation acc checkpoint saved!\n",
            "valid loss is:  1.3097219861072043\n",
            "minimum of the losses is:  1.3097219861072043\n",
            "Epoch: 28\n",
            "Train Acc: 0.758\n",
            "Val Acc: 0.621\n",
            "Train Loss: 0.833\n",
            "Val Loss: 1.310\n",
            "---------------------------------------------\n"
          ]
        },
        {
          "name": "stderr",
          "output_type": "stream",
          "text": [
            "100%|██████████| 302/302 [00:47<00:00,  6.38it/s]\n"
          ]
        },
        {
          "name": "stdout",
          "output_type": "stream",
          "text": [
            "valid loss is:  1.324524351047433\n",
            "minimum of the losses is:  1.3097219861072043\n",
            "Epoch: 29\n",
            "Train Acc: 0.772\n",
            "Val Acc: 0.620\n",
            "Train Loss: 0.803\n",
            "Val Loss: 1.325\n",
            "---------------------------------------------\n"
          ]
        },
        {
          "name": "stderr",
          "output_type": "stream",
          "text": [
            "100%|██████████| 302/302 [00:47<00:00,  6.31it/s]\n"
          ]
        },
        {
          "name": "stdout",
          "output_type": "stream",
          "text": [
            "Validation loss checkpoint saved!\n",
            "Validation acc checkpoint saved!\n",
            "valid loss is:  1.2878446877866552\n",
            "minimum of the losses is:  1.2878446877866552\n",
            "Epoch: 30\n",
            "Train Acc: 0.776\n",
            "Val Acc: 0.621\n",
            "Train Loss: 0.773\n",
            "Val Loss: 1.288\n",
            "---------------------------------------------\n"
          ]
        },
        {
          "name": "stderr",
          "output_type": "stream",
          "text": [
            "100%|██████████| 302/302 [00:47<00:00,  6.38it/s]\n"
          ]
        },
        {
          "name": "stdout",
          "output_type": "stream",
          "text": [
            "Validation loss checkpoint saved!\n",
            "Validation acc checkpoint saved!\n",
            "valid loss is:  1.2746478334717128\n",
            "minimum of the losses is:  1.2746478334717128\n",
            "Epoch: 31\n",
            "Train Acc: 0.783\n",
            "Val Acc: 0.634\n",
            "Train Loss: 0.747\n",
            "Val Loss: 1.275\n",
            "---------------------------------------------\n"
          ]
        },
        {
          "name": "stderr",
          "output_type": "stream",
          "text": [
            "100%|██████████| 302/302 [00:48<00:00,  6.26it/s]\n"
          ]
        },
        {
          "name": "stdout",
          "output_type": "stream",
          "text": [
            "Validation loss checkpoint saved!\n",
            "valid loss is:  1.2723960852277452\n",
            "minimum of the losses is:  1.2723960852277452\n",
            "Epoch: 32\n",
            "Train Acc: 0.797\n",
            "Val Acc: 0.631\n",
            "Train Loss: 0.724\n",
            "Val Loss: 1.272\n",
            "---------------------------------------------\n"
          ]
        },
        {
          "name": "stderr",
          "output_type": "stream",
          "text": [
            "100%|██████████| 302/302 [00:46<00:00,  6.45it/s]\n"
          ]
        },
        {
          "name": "stdout",
          "output_type": "stream",
          "text": [
            "Validation loss checkpoint saved!\n",
            "Validation acc checkpoint saved!\n",
            "valid loss is:  1.2466508691725524\n",
            "minimum of the losses is:  1.2466508691725524\n",
            "Epoch: 33\n",
            "Train Acc: 0.800\n",
            "Val Acc: 0.644\n",
            "Train Loss: 0.699\n",
            "Val Loss: 1.247\n",
            "---------------------------------------------\n"
          ]
        },
        {
          "name": "stderr",
          "output_type": "stream",
          "text": [
            "100%|██████████| 302/302 [00:47<00:00,  6.32it/s]\n"
          ]
        },
        {
          "name": "stdout",
          "output_type": "stream",
          "text": [
            "Validation loss checkpoint saved!\n",
            "Validation acc checkpoint saved!\n",
            "valid loss is:  1.2326566703077675\n",
            "minimum of the losses is:  1.2326566703077675\n",
            "Epoch: 34\n",
            "Train Acc: 0.803\n",
            "Val Acc: 0.647\n",
            "Train Loss: 0.682\n",
            "Val Loss: 1.233\n",
            "---------------------------------------------\n"
          ]
        },
        {
          "name": "stderr",
          "output_type": "stream",
          "text": [
            "100%|██████████| 302/302 [00:47<00:00,  6.29it/s]\n"
          ]
        },
        {
          "name": "stdout",
          "output_type": "stream",
          "text": [
            "valid loss is:  1.2341342991676882\n",
            "minimum of the losses is:  1.2326566703077675\n",
            "Epoch: 35\n",
            "Train Acc: 0.814\n",
            "Val Acc: 0.638\n",
            "Train Loss: 0.653\n",
            "Val Loss: 1.234\n",
            "---------------------------------------------\n"
          ]
        },
        {
          "name": "stderr",
          "output_type": "stream",
          "text": [
            "100%|██████████| 302/302 [00:47<00:00,  6.36it/s]\n"
          ]
        },
        {
          "name": "stdout",
          "output_type": "stream",
          "text": [
            "valid loss is:  1.2444157552891884\n",
            "minimum of the losses is:  1.2326566703077675\n",
            "Epoch: 36\n",
            "Train Acc: 0.825\n",
            "Val Acc: 0.647\n",
            "Train Loss: 0.620\n",
            "Val Loss: 1.244\n",
            "---------------------------------------------\n"
          ]
        },
        {
          "name": "stderr",
          "output_type": "stream",
          "text": [
            "100%|██████████| 302/302 [00:47<00:00,  6.38it/s]\n"
          ]
        },
        {
          "name": "stdout",
          "output_type": "stream",
          "text": [
            "valid loss is:  1.2356333297231923\n",
            "minimum of the losses is:  1.2326566703077675\n",
            "Epoch: 37\n",
            "Train Acc: 0.832\n",
            "Val Acc: 0.646\n",
            "Train Loss: 0.602\n",
            "Val Loss: 1.236\n",
            "---------------------------------------------\n"
          ]
        },
        {
          "name": "stderr",
          "output_type": "stream",
          "text": [
            "100%|██████████| 302/302 [00:46<00:00,  6.43it/s]\n"
          ]
        },
        {
          "name": "stdout",
          "output_type": "stream",
          "text": [
            "Validation loss checkpoint saved!\n",
            "Validation acc checkpoint saved!\n",
            "valid loss is:  1.2061765611171722\n",
            "minimum of the losses is:  1.2061765611171722\n",
            "Epoch: 38\n",
            "Train Acc: 0.836\n",
            "Val Acc: 0.660\n",
            "Train Loss: 0.579\n",
            "Val Loss: 1.206\n",
            "---------------------------------------------\n"
          ]
        },
        {
          "name": "stderr",
          "output_type": "stream",
          "text": [
            "100%|██████████| 302/302 [00:47<00:00,  6.38it/s]\n"
          ]
        },
        {
          "name": "stdout",
          "output_type": "stream",
          "text": [
            "valid loss is:  1.2300512813139652\n",
            "minimum of the losses is:  1.2061765611171722\n",
            "Epoch: 39\n",
            "Train Acc: 0.848\n",
            "Val Acc: 0.646\n",
            "Train Loss: 0.557\n",
            "Val Loss: 1.230\n",
            "---------------------------------------------\n"
          ]
        },
        {
          "name": "stderr",
          "output_type": "stream",
          "text": [
            "100%|██████████| 302/302 [00:47<00:00,  6.38it/s]\n"
          ]
        },
        {
          "name": "stdout",
          "output_type": "stream",
          "text": [
            "Validation acc checkpoint saved!\n",
            "valid loss is:  1.2118331414201986\n",
            "minimum of the losses is:  1.2061765611171722\n",
            "Epoch: 40\n",
            "Train Acc: 0.845\n",
            "Val Acc: 0.662\n",
            "Train Loss: 0.549\n",
            "Val Loss: 1.212\n",
            "---------------------------------------------\n"
          ]
        },
        {
          "name": "stderr",
          "output_type": "stream",
          "text": [
            "100%|██████████| 302/302 [00:48<00:00,  6.20it/s]\n"
          ]
        },
        {
          "name": "stdout",
          "output_type": "stream",
          "text": [
            "valid loss is:  1.2142837637576505\n",
            "minimum of the losses is:  1.2061765611171722\n",
            "Epoch: 41\n",
            "Train Acc: 0.855\n",
            "Val Acc: 0.660\n",
            "Train Loss: 0.518\n",
            "Val Loss: 1.214\n",
            "---------------------------------------------\n"
          ]
        },
        {
          "name": "stderr",
          "output_type": "stream",
          "text": [
            "100%|██████████| 302/302 [00:47<00:00,  6.38it/s]\n"
          ]
        },
        {
          "name": "stdout",
          "output_type": "stream",
          "text": [
            "Validation loss checkpoint saved!\n",
            "Validation acc checkpoint saved!\n",
            "valid loss is:  1.1926979573740475\n",
            "minimum of the losses is:  1.1926979573740475\n",
            "Epoch: 42\n",
            "Train Acc: 0.863\n",
            "Val Acc: 0.662\n",
            "Train Loss: 0.501\n",
            "Val Loss: 1.193\n",
            "---------------------------------------------\n"
          ]
        },
        {
          "name": "stderr",
          "output_type": "stream",
          "text": [
            "100%|██████████| 302/302 [00:47<00:00,  6.41it/s]\n"
          ]
        },
        {
          "name": "stdout",
          "output_type": "stream",
          "text": [
            "Validation acc checkpoint saved!\n",
            "valid loss is:  1.2128884069297625\n",
            "minimum of the losses is:  1.1926979573740475\n",
            "Epoch: 43\n",
            "Train Acc: 0.859\n",
            "Val Acc: 0.664\n",
            "Train Loss: 0.497\n",
            "Val Loss: 1.213\n",
            "---------------------------------------------\n"
          ]
        },
        {
          "name": "stderr",
          "output_type": "stream",
          "text": [
            "100%|██████████| 302/302 [00:46<00:00,  6.43it/s]\n"
          ]
        },
        {
          "name": "stdout",
          "output_type": "stream",
          "text": [
            "Validation loss checkpoint saved!\n",
            "valid loss is:  1.1856920364974202\n",
            "minimum of the losses is:  1.1856920364974202\n",
            "Epoch: 44\n",
            "Train Acc: 0.864\n",
            "Val Acc: 0.663\n",
            "Train Loss: 0.494\n",
            "Val Loss: 1.186\n",
            "---------------------------------------------\n"
          ]
        },
        {
          "name": "stderr",
          "output_type": "stream",
          "text": [
            "100%|██████████| 302/302 [00:47<00:00,  6.39it/s]\n"
          ]
        },
        {
          "name": "stdout",
          "output_type": "stream",
          "text": [
            "Validation acc checkpoint saved!\n",
            "valid loss is:  1.1870694712452265\n",
            "minimum of the losses is:  1.1856920364974202\n",
            "Epoch: 45\n",
            "Train Acc: 0.872\n",
            "Val Acc: 0.666\n",
            "Train Loss: 0.461\n",
            "Val Loss: 1.187\n",
            "---------------------------------------------\n"
          ]
        },
        {
          "name": "stderr",
          "output_type": "stream",
          "text": [
            "100%|██████████| 302/302 [00:47<00:00,  6.31it/s]\n"
          ]
        },
        {
          "name": "stdout",
          "output_type": "stream",
          "text": [
            "Validation acc checkpoint saved!\n",
            "valid loss is:  1.1867017288138901\n",
            "minimum of the losses is:  1.1856920364974202\n",
            "Epoch: 46\n",
            "Train Acc: 0.875\n",
            "Val Acc: 0.674\n",
            "Train Loss: 0.446\n",
            "Val Loss: 1.187\n",
            "---------------------------------------------\n"
          ]
        },
        {
          "name": "stderr",
          "output_type": "stream",
          "text": [
            "100%|██████████| 302/302 [00:47<00:00,  6.37it/s]\n"
          ]
        },
        {
          "name": "stdout",
          "output_type": "stream",
          "text": [
            "valid loss is:  1.2154318716215051\n",
            "minimum of the losses is:  1.1856920364974202\n",
            "Epoch: 47\n",
            "Train Acc: 0.882\n",
            "Val Acc: 0.670\n",
            "Train Loss: 0.437\n",
            "Val Loss: 1.215\n",
            "---------------------------------------------\n"
          ]
        },
        {
          "name": "stderr",
          "output_type": "stream",
          "text": [
            "100%|██████████| 302/302 [00:47<00:00,  6.36it/s]\n"
          ]
        },
        {
          "name": "stdout",
          "output_type": "stream",
          "text": [
            "valid loss is:  1.190188637073489\n",
            "minimum of the losses is:  1.1856920364974202\n",
            "Epoch: 48\n",
            "Train Acc: 0.886\n",
            "Val Acc: 0.672\n",
            "Train Loss: 0.416\n",
            "Val Loss: 1.190\n",
            "---------------------------------------------\n"
          ]
        },
        {
          "name": "stderr",
          "output_type": "stream",
          "text": [
            "100%|██████████| 302/302 [00:46<00:00,  6.46it/s]\n"
          ]
        },
        {
          "name": "stdout",
          "output_type": "stream",
          "text": [
            "Validation loss checkpoint saved!\n",
            "Validation acc checkpoint saved!\n",
            "valid loss is:  1.1774748033371525\n",
            "minimum of the losses is:  1.1774748033371525\n",
            "Epoch: 49\n",
            "Train Acc: 0.889\n",
            "Val Acc: 0.678\n",
            "Train Loss: 0.402\n",
            "Val Loss: 1.177\n",
            "---------------------------------------------\n"
          ]
        },
        {
          "name": "stderr",
          "output_type": "stream",
          "text": [
            "100%|██████████| 302/302 [00:46<00:00,  6.44it/s]\n"
          ]
        },
        {
          "name": "stdout",
          "output_type": "stream",
          "text": [
            "Validation acc checkpoint saved!\n",
            "valid loss is:  1.203828966099283\n",
            "minimum of the losses is:  1.1774748033371525\n",
            "Epoch: 50\n",
            "Train Acc: 0.890\n",
            "Val Acc: 0.679\n",
            "Train Loss: 0.392\n",
            "Val Loss: 1.204\n",
            "---------------------------------------------\n"
          ]
        }
      ],
      "source": [
        "model, acc_hist_train, acc_hist_val, train_losses, val_losses = train_model(Config.learning_rate, Config.num_epochs, Config.dropout, Config.img_dimensions, train_loader, valid_loader)"
      ]
    },
    {
      "cell_type": "markdown",
      "metadata": {
        "id": "nItMG2lBfyPk"
      },
      "source": [
        "# Evaluation\n"
      ]
    },
    {
      "cell_type": "code",
      "execution_count": null,
      "metadata": {
        "colab": {
          "background_save": true
        },
        "id": "rMuFWnFxf03D"
      },
      "outputs": [],
      "source": [
        "load_acc_checkpoint = True\n",
        "if load_acc_checkpoint:\n",
        "    model = OceanCNN(dropout=Config.dropout, img_dimensions=Config.img_dimensions)\n",
        "    model.load_state_dict(torch.load('checkpoint_acc.pt'))\n",
        "    if torch.cuda.is_available():\n",
        "        model = model.to('cuda')  # Move your model to GPU\n"
      ]
    },
    {
      "cell_type": "code",
      "execution_count": null,
      "metadata": {
        "colab": {
          "background_save": true
        },
        "id": "Vt8VBEdTf2wv"
      },
      "outputs": [],
      "source": [
        "#Load loss checkpoint if requested\n",
        "load_loss_checkpoint = True\n",
        "if load_loss_checkpoint:\n",
        "    model = OceanCNN(dropout=Config.dropout, img_dimensions=Config.img_dimensions)\n",
        "    model.load_state_dict(torch.load('checkpoint_loss.pt'))\n",
        "    if torch.cuda.is_available():\n",
        "        model = model.to('cuda')  # Move your model to GPU"
      ]
    },
    {
      "cell_type": "code",
      "execution_count": null,
      "metadata": {
        "colab": {
          "background_save": true
        },
        "id": "tX1ejafuf--8",
        "outputId": "7adb9f18-4b57-44b7-e56d-f941bd900a36"
      },
      "outputs": [
        {
          "data": {
            "image/png": "[encoded data removed]",
            "text/plain": [
              "<Figure size 1200x400 with 2 Axes>"
            ]
          },
          "metadata": {},
          "output_type": "display_data"
        }
      ],
      "source": [
        "#Plot graphs\n",
        "\n",
        "loss_axis = list(range(len(train_losses)))\n",
        "val_axis = list(range(len(val_losses)))\n",
        "\n",
        "fig = plt.figure(figsize=(12,4))\n",
        "ax = fig.add_subplot(1, 2, 1)\n",
        "\n",
        "ax.plot(loss_axis, train_losses, '-o', label = 'Train loss')\n",
        "ax.plot(val_axis , val_losses, '--<', label = 'Validation loss')\n",
        "ax.legend(fontsize=15)\n",
        "ax = fig.add_subplot(1, 2, 2)\n",
        "ax.plot(loss_axis, acc_hist_train, '-o', label='Train Accuracy')\n",
        "ax.plot(val_axis, acc_hist_val, '--<', label='Validation Accuracy')\n",
        "ax.legend(fontsize=15)\n",
        "ax.set_xlabel('Epoch', size=15)\n",
        "ax.set_ylabel('Epoch', size=15)\n",
        "plt.show()"
      ]
    },
    {
      "cell_type": "code",
      "execution_count": null,
      "metadata": {
        "colab": {
          "background_save": true
        },
        "id": "vWxOKPFmgBI4",
        "outputId": "1bc43050-3b80-462f-9eca-1b8de6f7489a"
      },
      "outputs": [
        {
          "name": "stdout",
          "output_type": "stream",
          "text": [
            "test accuracy: 0.04427102208137512\n",
            "\u001b[96m\u001b[1mNOTE: Test Accuracy above is provided for reference only. It can be a misleading statistic for imbalanced data.\n",
            "f1_score: 0.4411837572255302\n"
          ]
        }
      ],
      "source": [
        "accuracy_test = 0.0\n",
        "actual_labels = []\n",
        "predicted_labels = []\n",
        "with torch.no_grad():\n",
        "    # disables gradient\n",
        "    val_loss = 0.0\n",
        "    for x, y in test_loader:\n",
        "        if torch.cuda.is_available():\n",
        "            x, y = x.cuda(), y.cuda()\n",
        "        pred = model(x) #predict\n",
        "        is_correct = (torch.argmax(pred, dim=1) == y).sum().float()\n",
        "        accuracy_test += is_correct.mean()\n",
        "        actual_labels.append(to_numpy(y))\n",
        "        predicted_labels.append(to_numpy(torch.argmax(pred, dim=1)))\n",
        "    accuracy_test /= len(dataset)\n",
        "\n",
        "print(f'test accuracy: {accuracy_test}')\n",
        "print(f\"{bcolors.OKCYAN}{bcolors.BOLD}NOTE: Test Accuracy above is provided for reference only. It can be a misleading statistic for imbalanced data.\")\n",
        "predicted_labels = [item for sublist in predicted_labels for item in sublist]\n",
        "actual_labels = [item for sublist in actual_labels for item in sublist]\n",
        "F1_score = f1_score(actual_labels, predicted_labels, average='macro')\n",
        "print(f'f1_score: {F1_score}')"
      ]
    },
    {
      "cell_type": "code",
      "execution_count": null,
      "metadata": {
        "colab": {
          "background_save": true
        },
        "id": "n23Fy-Lggfuj",
        "outputId": "3f727c86-b245-4f49-cf7b-fc9de80e3083"
      },
      "outputs": [
        {
          "data": {
            "image/png": "[encoded data removed]",
            "text/plain": [
              "<Figure size 1600x1400 with 2 Axes>"
            ]
          },
          "metadata": {},
          "output_type": "display_data"
        },
        {
          "name": "stdout",
          "output_type": "stream",
          "text": [
            "f1_score: 0.4411837572255302\n"
          ]
        }
      ],
      "source": [
        "cm = confusion_matrix(actual_labels, predicted_labels)\n",
        "\n",
        "labels = dataset.labels\n",
        "\n",
        "fig = plt.figure(figsize=(16, 14))\n",
        "ax = plt.subplot()\n",
        "sns.heatmap(cm, annot=True, ax=ax, fmt=\"g\")\n",
        "ax.set_xlabel(\"Predicted\", fontsize=20)\n",
        "ax.xaxis.set_label_position(\"bottom\")\n",
        "plt.xticks(rotation=90)\n",
        "ax.xaxis.tick_bottom()\n",
        "\n",
        "ax.set_ylabel(\"True\", fontsize=20)\n",
        "plt.yticks(rotation=0)\n",
        "\n",
        "plt.title(\"Refined Confusion Matrix\", fontsize=20)\n",
        "\n",
        "plt.show()\n",
        "\n",
        "F1_score = f1_score(actual_labels, predicted_labels, average='macro')\n",
        "\n",
        "print(f'f1_score: {F1_score}')"
      ]
    }
  ],
  "metadata": {
    "accelerator": "GPU",
    "colab": {
      "provenance": [],
      "authorship_tag": "ABX9TyMLydQiq6lXfV9uwND2rBkb",
      "include_colab_link": true
    },
    "kernelspec": {
      "display_name": "Python 3",
      "name": "python3"
    },
    "language_info": {
      "name": "python"
    }
  },
  "nbformat": 4,
  "nbformat_minor": 0
}